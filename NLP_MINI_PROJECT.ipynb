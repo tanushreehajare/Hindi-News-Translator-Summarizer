{
  "nbformat": 4,
  "nbformat_minor": 0,
  "metadata": {
    "colab": {
      "provenance": []
    },
    "kernelspec": {
      "name": "python3",
      "display_name": "Python 3"
    },
    "language_info": {
      "name": "python"
    }
  },
  "cells": [
    {
      "cell_type": "code",
      "source": [
        "pip install requests beautifulsoup4 googletrans==4.0.0-rc1 transformers"
      ],
      "metadata": {
        "colab": {
          "base_uri": "https://localhost:8080/"
        },
        "collapsed": true,
        "id": "bRMxZc4nOt4W",
        "outputId": "5b4c277c-294c-405a-ce3c-d6019406b2fa"
      },
      "execution_count": null,
      "outputs": [
        {
          "output_type": "stream",
          "name": "stdout",
          "text": [
            "Requirement already satisfied: requests in /usr/local/lib/python3.10/dist-packages (2.32.3)\n",
            "Requirement already satisfied: beautifulsoup4 in /usr/local/lib/python3.10/dist-packages (4.12.3)\n",
            "Requirement already satisfied: googletrans==4.0.0-rc1 in /usr/local/lib/python3.10/dist-packages (4.0.0rc1)\n",
            "Requirement already satisfied: transformers in /usr/local/lib/python3.10/dist-packages (4.44.2)\n",
            "Requirement already satisfied: httpx==0.13.3 in /usr/local/lib/python3.10/dist-packages (from googletrans==4.0.0-rc1) (0.13.3)\n",
            "Requirement already satisfied: certifi in /usr/local/lib/python3.10/dist-packages (from httpx==0.13.3->googletrans==4.0.0-rc1) (2024.8.30)\n",
            "Requirement already satisfied: hstspreload in /usr/local/lib/python3.10/dist-packages (from httpx==0.13.3->googletrans==4.0.0-rc1) (2024.10.1)\n",
            "Requirement already satisfied: sniffio in /usr/local/lib/python3.10/dist-packages (from httpx==0.13.3->googletrans==4.0.0-rc1) (1.3.1)\n",
            "Requirement already satisfied: chardet==3.* in /usr/local/lib/python3.10/dist-packages (from httpx==0.13.3->googletrans==4.0.0-rc1) (3.0.4)\n",
            "Requirement already satisfied: idna==2.* in /usr/local/lib/python3.10/dist-packages (from httpx==0.13.3->googletrans==4.0.0-rc1) (2.10)\n",
            "Requirement already satisfied: rfc3986<2,>=1.3 in /usr/local/lib/python3.10/dist-packages (from httpx==0.13.3->googletrans==4.0.0-rc1) (1.5.0)\n",
            "Requirement already satisfied: httpcore==0.9.* in /usr/local/lib/python3.10/dist-packages (from httpx==0.13.3->googletrans==4.0.0-rc1) (0.9.1)\n",
            "Requirement already satisfied: h11<0.10,>=0.8 in /usr/local/lib/python3.10/dist-packages (from httpcore==0.9.*->httpx==0.13.3->googletrans==4.0.0-rc1) (0.9.0)\n",
            "Requirement already satisfied: h2==3.* in /usr/local/lib/python3.10/dist-packages (from httpcore==0.9.*->httpx==0.13.3->googletrans==4.0.0-rc1) (3.2.0)\n",
            "Requirement already satisfied: hyperframe<6,>=5.2.0 in /usr/local/lib/python3.10/dist-packages (from h2==3.*->httpcore==0.9.*->httpx==0.13.3->googletrans==4.0.0-rc1) (5.2.0)\n",
            "Requirement already satisfied: hpack<4,>=3.0 in /usr/local/lib/python3.10/dist-packages (from h2==3.*->httpcore==0.9.*->httpx==0.13.3->googletrans==4.0.0-rc1) (3.0.0)\n",
            "Requirement already satisfied: charset-normalizer<4,>=2 in /usr/local/lib/python3.10/dist-packages (from requests) (3.3.2)\n",
            "Requirement already satisfied: urllib3<3,>=1.21.1 in /usr/local/lib/python3.10/dist-packages (from requests) (2.2.3)\n",
            "Requirement already satisfied: soupsieve>1.2 in /usr/local/lib/python3.10/dist-packages (from beautifulsoup4) (2.6)\n",
            "Requirement already satisfied: filelock in /usr/local/lib/python3.10/dist-packages (from transformers) (3.16.1)\n",
            "Requirement already satisfied: huggingface-hub<1.0,>=0.23.2 in /usr/local/lib/python3.10/dist-packages (from transformers) (0.24.7)\n",
            "Requirement already satisfied: numpy>=1.17 in /usr/local/lib/python3.10/dist-packages (from transformers) (1.26.4)\n",
            "Requirement already satisfied: packaging>=20.0 in /usr/local/lib/python3.10/dist-packages (from transformers) (24.1)\n",
            "Requirement already satisfied: pyyaml>=5.1 in /usr/local/lib/python3.10/dist-packages (from transformers) (6.0.2)\n",
            "Requirement already satisfied: regex!=2019.12.17 in /usr/local/lib/python3.10/dist-packages (from transformers) (2024.9.11)\n",
            "Requirement already satisfied: safetensors>=0.4.1 in /usr/local/lib/python3.10/dist-packages (from transformers) (0.4.5)\n",
            "Requirement already satisfied: tokenizers<0.20,>=0.19 in /usr/local/lib/python3.10/dist-packages (from transformers) (0.19.1)\n",
            "Requirement already satisfied: tqdm>=4.27 in /usr/local/lib/python3.10/dist-packages (from transformers) (4.66.5)\n",
            "Requirement already satisfied: fsspec>=2023.5.0 in /usr/local/lib/python3.10/dist-packages (from huggingface-hub<1.0,>=0.23.2->transformers) (2024.6.1)\n",
            "Requirement already satisfied: typing-extensions>=3.7.4.3 in /usr/local/lib/python3.10/dist-packages (from huggingface-hub<1.0,>=0.23.2->transformers) (4.12.2)\n"
          ]
        }
      ]
    },
    {
      "cell_type": "markdown",
      "source": [
        "### Importing Libraries"
      ],
      "metadata": {
        "id": "UZU34URQT79x"
      }
    },
    {
      "cell_type": "code",
      "execution_count": null,
      "metadata": {
        "id": "_Kgc3opzOIlr"
      },
      "outputs": [],
      "source": [
        "import requests\n",
        "from bs4 import BeautifulSoup\n",
        "from googletrans import Translator  # For translation\n",
        "from transformers import BartForConditionalGeneration, BartTokenizer"
      ]
    },
    {
      "cell_type": "markdown",
      "source": [
        "### Web Scraping Function\n",
        "This function scrapes the news article's title, date, and content from the provided URL."
      ],
      "metadata": {
        "id": "jLr-DqZOO6jF"
      }
    },
    {
      "cell_type": "code",
      "source": [
        "def scrape_news_articles(url):\n",
        "\n",
        "    # Send a request to the URL and get the HTML response\n",
        "    response = requests.get(url)\n",
        "    soup = BeautifulSoup(response.content, 'html.parser')\n",
        "\n",
        "    title = soup.find('h1')\n",
        "    date = soup.find('span')\n",
        "    content = soup.find('div')\n",
        "\n",
        "    title = title.text.strip() if title else \"Title not found\"\n",
        "    date = date.text.strip() if date else \"Date not found\"\n",
        "    content = content.text.strip() if content else \"Content not found\"\n",
        "\n",
        "    return {'title': title, 'date': date, 'content': content}"
      ],
      "metadata": {
        "id": "TusX7rrIOPec"
      },
      "execution_count": null,
      "outputs": []
    },
    {
      "cell_type": "markdown",
      "source": [
        "### Translation Function\n",
        "This function translates the input text to the specified target language (English)."
      ],
      "metadata": {
        "id": "RDQdeqC_PM_g"
      }
    },
    {
      "cell_type": "code",
      "source": [
        "def translate_text(text, target_lang='en'):\n",
        "\n",
        "    # Using googletrans library for translation (or use Google Translate API)\n",
        "    translator = Translator()\n",
        "    translated_text = translator.translate(text, dest=target_lang).text\n",
        "    return translated_text"
      ],
      "metadata": {
        "id": "AGrSVBKFOTBW"
      },
      "execution_count": null,
      "outputs": []
    },
    {
      "cell_type": "markdown",
      "source": [
        "### Summarization Function\n",
        "This function summarizes the input text using a BART model from Hugging Face transformers library."
      ],
      "metadata": {
        "id": "2wxTKFlLPaYm"
      }
    },
    {
      "cell_type": "code",
      "source": [
        "def summarize_text(text):\n",
        "\n",
        "    # Load the pre-trained BART model and tokenizer\n",
        "    model = BartForConditionalGeneration.from_pretrained('facebook/bart-large-cnn')\n",
        "    tokenizer = BartTokenizer.from_pretrained('facebook/bart-large-cnn')\n",
        "\n",
        "    # Tokenize and encode the input text for BART model\n",
        "    inputs = tokenizer.encode(\"summarize: \" + text, return_tensors=\"pt\", max_length=1024, truncation=True)\n",
        "\n",
        "    # Generate the summary\n",
        "    summary_ids = model.generate(inputs, max_length=150, min_length=50, length_penalty=2.0, num_beams=4, early_stopping=True)\n",
        "\n",
        "    # Decode the summary back to text\n",
        "    summary = tokenizer.decode(summary_ids[0], skip_special_tokens=True)\n",
        "    return summary"
      ],
      "metadata": {
        "id": "tce4oXhOOhXB"
      },
      "execution_count": null,
      "outputs": []
    },
    {
      "cell_type": "code",
      "source": [
        "url = 'https://hindi.asianetnews.com/entertainment/tv/salman-khan-bigg-boss-18-contestants-list-premiere-date-and-all/articleshow-yzbd8ld'\n",
        "article_data = scrape_news_articles(url)"
      ],
      "metadata": {
        "id": "OXmm-JNTOjhS"
      },
      "execution_count": null,
      "outputs": []
    },
    {
      "cell_type": "code",
      "source": [
        "if article_data['content'] != \"Content not found\":\n",
        "    translated_text = translate_text(article_data['content'])\n",
        "    summary = summarize_text(translated_text)\n",
        "\n",
        "    print('Title:', article_data['title'])\n",
        "    print('Date:', article_data['date'])\n",
        "    print('Summary:', summary)\n",
        "    print('Full Article:', translated_text)\n",
        "else:\n",
        "    print(\"Failed to retrieve article content.\")"
      ],
      "metadata": {
        "colab": {
          "base_uri": "https://localhost:8080/"
        },
        "id": "R6HUx_TFOnuM",
        "outputId": "01aaceae-efd0-4928-b5f1-ef061bae91b3"
      },
      "execution_count": null,
      "outputs": [
        {
          "output_type": "stream",
          "name": "stdout",
          "text": [
            "Title: Bigg Boss 18 बनाएगा अब तक का सबसे बड़ा रिकॉर्ड! जानिए कैसे रचेगा इतिहास?\n",
            "Date: Home\n",
            "Summary: According to the latest reports, the 18th season of 'Bigg Boss' is going to make the biggest record in the history of this show so far. Last season, it started with 17 contestants and 4 wild card entry. This time, stars like Dheeraj Dhupar, Anita Hasanandani can be seen.\n",
            "Full Article: The National West Story Rajyaranojanlaifstylifsochechalphotogmsvidiosavidiyosyvioral homeenteanmenttvbigg boss 18 will make the biggest record so far!Know how history will create? Bigg Boss 18 will make the biggest record ever!Know how will history be created? Gagan Gurjar |Published: Sep 07 2024, 07:22 PM Istbigg Boss 18 will make the biggest record so far!Know how will history be created?The 18th season of 'Bigg Boss' can begin with 20 contestants.Last season, it started with 17 contestants and 4 wild card entry.This time, stars like Dheeraj Dhupar, Anita Hasanandani can be seen.His fans are eagerly waiting for Salman Khan's reality show 'Bigg Boss'.Every season, something new is definitely seen.According to the latest reports, the 18th season of 'Bigg Boss' is going to make the biggest record in the history of this show so far.So far, on the first day of this show, 16 or more than 17 contestants take entry.But according to the reports, you can take 20 contestant entries simultaneously in 'Bigg Boss 18'.If this happens, this season will be the most starting season with the most contestants. '' Big Boss 17 'started with how many contestants?The season lasted till 28 January 2024.The season started with 17 contestants and later 4 contestants took a wild card entry.The season was won by Munawwar Farooqui. The list of some possible contestants of the 18th season of 'Big Boss Season 18' has also surfaced.According to reports, TV actor Dheeraj Dhupar, Anita Hasanandani, Jaan Khan, Meera Devasthale, Shaheer Sheikh ,, Surabhi Jyoti, Faisal Sheikh, Bollywood actress Sameera Reddy, 'The Kapil Sharma Show' Fame Comedian Chandan Prabhakar and in the film 'Stree 2'Sunil Kumar, who has played Sarkata, can appear as a contestant this season. If the start of 'Bigg Boss 18' and who will be Hosteriport's 18th season of 'Bigg Boss' will start from October 5, 2024.Like the previous season, this time too Salman Khan will be the host of this 'Bigg Boss'.Recently, Salman has also done a photoshoot for the show.Talking about Salman's other projects, he is busy shooting for the film 'Sikander'.He was recently hurt during its shooting and two of his ribs were broken.Salman himself recently revealed his injury during media interaction.Salman's film 'Sikander' will be released on the occasion of Eid in 2025.Read more… Lord Ganesha, Viraje Viraje of Shilpa Shetty, Deepika Padukone, who was admitted to Bollywood hospital, good news is about to come! Read full article Read More Articles Onbigg Bossalman Khantop Stories became fireball of fire: 25 children live, 25 children liveWill give pictures ... Why Sai Baba's statues were removed from temples in Kashi, what is the relationship with Sanatan? 2 steps ahead Israel, said in a special message- 'A new era is coming ...' just 1 call, digitalArrest and 7 crore transfer, how to cheat the owner of Vardhman Group! Benefits of raw bananas: In this fruit, this fruit is hidden! Asianetfollow us onfacebooktwitterkooyt videoinstaabout userms of usePrivacy PolicycycycycycycyComplain e report digitalinvestorslanguage editionsenglish (newsable) മലയാളം (Malayalam)தமிழ் (tamil) ನ್ನಡ (kannada) తెలుగు (telugu) GORIES Techlifastylonorkheloparkheloto trending topicsnarendra modilok sabha election 2024Positive IndiaHolimahashivratriroyal Wedding© Copyright 2024 Asianxt Digital Technologies Private Limited (Formerly Known as Asiat News Media & Entertainment Private Limited) |All rights reserved\n"
          ]
        }
      ]
    },
    {
      "cell_type": "code",
      "source": [
        "!pip install streamlit"
      ],
      "metadata": {
        "colab": {
          "base_uri": "https://localhost:8080/"
        },
        "collapsed": true,
        "id": "rPLrO2VsTFPF",
        "outputId": "4784b60e-f2d4-47f7-acf9-4d4801c4c252"
      },
      "execution_count": null,
      "outputs": [
        {
          "output_type": "stream",
          "name": "stdout",
          "text": [
            "Collecting streamlit\n",
            "  Downloading streamlit-1.39.0-py2.py3-none-any.whl.metadata (8.5 kB)\n",
            "Requirement already satisfied: altair<6,>=4.0 in /usr/local/lib/python3.10/dist-packages (from streamlit) (4.2.2)\n",
            "Requirement already satisfied: blinker<2,>=1.0.0 in /usr/lib/python3/dist-packages (from streamlit) (1.4)\n",
            "Requirement already satisfied: cachetools<6,>=4.0 in /usr/local/lib/python3.10/dist-packages (from streamlit) (5.5.0)\n",
            "Requirement already satisfied: click<9,>=7.0 in /usr/local/lib/python3.10/dist-packages (from streamlit) (8.1.7)\n",
            "Requirement already satisfied: numpy<3,>=1.20 in /usr/local/lib/python3.10/dist-packages (from streamlit) (1.26.4)\n",
            "Requirement already satisfied: packaging<25,>=20 in /usr/local/lib/python3.10/dist-packages (from streamlit) (24.1)\n",
            "Requirement already satisfied: pandas<3,>=1.4.0 in /usr/local/lib/python3.10/dist-packages (from streamlit) (2.2.2)\n",
            "Requirement already satisfied: pillow<11,>=7.1.0 in /usr/local/lib/python3.10/dist-packages (from streamlit) (10.4.0)\n",
            "Requirement already satisfied: protobuf<6,>=3.20 in /usr/local/lib/python3.10/dist-packages (from streamlit) (3.20.3)\n",
            "Requirement already satisfied: pyarrow>=7.0 in /usr/local/lib/python3.10/dist-packages (from streamlit) (16.1.0)\n",
            "Requirement already satisfied: requests<3,>=2.27 in /usr/local/lib/python3.10/dist-packages (from streamlit) (2.32.3)\n",
            "Requirement already satisfied: rich<14,>=10.14.0 in /usr/local/lib/python3.10/dist-packages (from streamlit) (13.8.1)\n",
            "Requirement already satisfied: tenacity<10,>=8.1.0 in /usr/local/lib/python3.10/dist-packages (from streamlit) (9.0.0)\n",
            "Requirement already satisfied: toml<2,>=0.10.1 in /usr/local/lib/python3.10/dist-packages (from streamlit) (0.10.2)\n",
            "Requirement already satisfied: typing-extensions<5,>=4.3.0 in /usr/local/lib/python3.10/dist-packages (from streamlit) (4.12.2)\n",
            "Collecting gitpython!=3.1.19,<4,>=3.0.7 (from streamlit)\n",
            "  Downloading GitPython-3.1.43-py3-none-any.whl.metadata (13 kB)\n",
            "Collecting pydeck<1,>=0.8.0b4 (from streamlit)\n",
            "  Downloading pydeck-0.9.1-py2.py3-none-any.whl.metadata (4.1 kB)\n",
            "Requirement already satisfied: tornado<7,>=6.0.3 in /usr/local/lib/python3.10/dist-packages (from streamlit) (6.3.3)\n",
            "Collecting watchdog<6,>=2.1.5 (from streamlit)\n",
            "  Downloading watchdog-5.0.3-py3-none-manylinux2014_x86_64.whl.metadata (41 kB)\n",
            "\u001b[2K     \u001b[90m━━━━━━━━━━━━━━━━━━━━━━━━━━━━━━━━━━━━━━━━\u001b[0m \u001b[32m41.9/41.9 kB\u001b[0m \u001b[31m1.2 MB/s\u001b[0m eta \u001b[36m0:00:00\u001b[0m\n",
            "\u001b[?25hRequirement already satisfied: entrypoints in /usr/local/lib/python3.10/dist-packages (from altair<6,>=4.0->streamlit) (0.4)\n",
            "Requirement already satisfied: jinja2 in /usr/local/lib/python3.10/dist-packages (from altair<6,>=4.0->streamlit) (3.1.4)\n",
            "Requirement already satisfied: jsonschema>=3.0 in /usr/local/lib/python3.10/dist-packages (from altair<6,>=4.0->streamlit) (4.23.0)\n",
            "Requirement already satisfied: toolz in /usr/local/lib/python3.10/dist-packages (from altair<6,>=4.0->streamlit) (0.12.1)\n",
            "Collecting gitdb<5,>=4.0.1 (from gitpython!=3.1.19,<4,>=3.0.7->streamlit)\n",
            "  Downloading gitdb-4.0.11-py3-none-any.whl.metadata (1.2 kB)\n",
            "Requirement already satisfied: python-dateutil>=2.8.2 in /usr/local/lib/python3.10/dist-packages (from pandas<3,>=1.4.0->streamlit) (2.8.2)\n",
            "Requirement already satisfied: pytz>=2020.1 in /usr/local/lib/python3.10/dist-packages (from pandas<3,>=1.4.0->streamlit) (2024.2)\n",
            "Requirement already satisfied: tzdata>=2022.7 in /usr/local/lib/python3.10/dist-packages (from pandas<3,>=1.4.0->streamlit) (2024.2)\n",
            "Requirement already satisfied: charset-normalizer<4,>=2 in /usr/local/lib/python3.10/dist-packages (from requests<3,>=2.27->streamlit) (3.3.2)\n",
            "Requirement already satisfied: idna<4,>=2.5 in /usr/local/lib/python3.10/dist-packages (from requests<3,>=2.27->streamlit) (3.10)\n",
            "Requirement already satisfied: urllib3<3,>=1.21.1 in /usr/local/lib/python3.10/dist-packages (from requests<3,>=2.27->streamlit) (2.2.3)\n",
            "Requirement already satisfied: certifi>=2017.4.17 in /usr/local/lib/python3.10/dist-packages (from requests<3,>=2.27->streamlit) (2024.8.30)\n",
            "Requirement already satisfied: markdown-it-py>=2.2.0 in /usr/local/lib/python3.10/dist-packages (from rich<14,>=10.14.0->streamlit) (3.0.0)\n",
            "Requirement already satisfied: pygments<3.0.0,>=2.13.0 in /usr/local/lib/python3.10/dist-packages (from rich<14,>=10.14.0->streamlit) (2.18.0)\n",
            "Collecting smmap<6,>=3.0.1 (from gitdb<5,>=4.0.1->gitpython!=3.1.19,<4,>=3.0.7->streamlit)\n",
            "  Downloading smmap-5.0.1-py3-none-any.whl.metadata (4.3 kB)\n",
            "Requirement already satisfied: MarkupSafe>=2.0 in /usr/local/lib/python3.10/dist-packages (from jinja2->altair<6,>=4.0->streamlit) (2.1.5)\n",
            "Requirement already satisfied: attrs>=22.2.0 in /usr/local/lib/python3.10/dist-packages (from jsonschema>=3.0->altair<6,>=4.0->streamlit) (24.2.0)\n",
            "Requirement already satisfied: jsonschema-specifications>=2023.03.6 in /usr/local/lib/python3.10/dist-packages (from jsonschema>=3.0->altair<6,>=4.0->streamlit) (2023.12.1)\n",
            "Requirement already satisfied: referencing>=0.28.4 in /usr/local/lib/python3.10/dist-packages (from jsonschema>=3.0->altair<6,>=4.0->streamlit) (0.35.1)\n",
            "Requirement already satisfied: rpds-py>=0.7.1 in /usr/local/lib/python3.10/dist-packages (from jsonschema>=3.0->altair<6,>=4.0->streamlit) (0.20.0)\n",
            "Requirement already satisfied: mdurl~=0.1 in /usr/local/lib/python3.10/dist-packages (from markdown-it-py>=2.2.0->rich<14,>=10.14.0->streamlit) (0.1.2)\n",
            "Requirement already satisfied: six>=1.5 in /usr/local/lib/python3.10/dist-packages (from python-dateutil>=2.8.2->pandas<3,>=1.4.0->streamlit) (1.16.0)\n",
            "Downloading streamlit-1.39.0-py2.py3-none-any.whl (8.7 MB)\n",
            "\u001b[2K   \u001b[90m━━━━━━━━━━━━━━━━━━━━━━━━━━━━━━━━━━━━━━━━\u001b[0m \u001b[32m8.7/8.7 MB\u001b[0m \u001b[31m21.4 MB/s\u001b[0m eta \u001b[36m0:00:00\u001b[0m\n",
            "\u001b[?25hDownloading GitPython-3.1.43-py3-none-any.whl (207 kB)\n",
            "\u001b[2K   \u001b[90m━━━━━━━━━━━━━━━━━━━━━━━━━━━━━━━━━━━━━━━━\u001b[0m \u001b[32m207.3/207.3 kB\u001b[0m \u001b[31m9.8 MB/s\u001b[0m eta \u001b[36m0:00:00\u001b[0m\n",
            "\u001b[?25hDownloading pydeck-0.9.1-py2.py3-none-any.whl (6.9 MB)\n",
            "\u001b[2K   \u001b[90m━━━━━━━━━━━━━━━━━━━━━━━━━━━━━━━━━━━━━━━━\u001b[0m \u001b[32m6.9/6.9 MB\u001b[0m \u001b[31m27.1 MB/s\u001b[0m eta \u001b[36m0:00:00\u001b[0m\n",
            "\u001b[?25hDownloading watchdog-5.0.3-py3-none-manylinux2014_x86_64.whl (79 kB)\n",
            "\u001b[2K   \u001b[90m━━━━━━━━━━━━━━━━━━━━━━━━━━━━━━━━━━━━━━━━\u001b[0m \u001b[32m79.3/79.3 kB\u001b[0m \u001b[31m3.8 MB/s\u001b[0m eta \u001b[36m0:00:00\u001b[0m\n",
            "\u001b[?25hDownloading gitdb-4.0.11-py3-none-any.whl (62 kB)\n",
            "\u001b[2K   \u001b[90m━━━━━━━━━━━━━━━━━━━━━━━━━━━━━━━━━━━━━━━━\u001b[0m \u001b[32m62.7/62.7 kB\u001b[0m \u001b[31m4.4 MB/s\u001b[0m eta \u001b[36m0:00:00\u001b[0m\n",
            "\u001b[?25hDownloading smmap-5.0.1-py3-none-any.whl (24 kB)\n",
            "Installing collected packages: watchdog, smmap, pydeck, gitdb, gitpython, streamlit\n",
            "Successfully installed gitdb-4.0.11 gitpython-3.1.43 pydeck-0.9.1 smmap-5.0.1 streamlit-1.39.0 watchdog-5.0.3\n"
          ]
        }
      ]
    },
    {
      "cell_type": "code",
      "source": [
        " import requests\n",
        "from bs4 import BeautifulSoup\n",
        "from googletrans import Translator\n",
        "from transformers import BartForConditionalGeneration, BartTokenizer\n",
        "import streamlit as st\n",
        "\n",
        "# Web Scraping Function\n",
        "def scrape_news_articles(url):\n",
        "    \"\"\"\n",
        "    This function scrapes the news article's title, date, and content from the provided URL.\n",
        "    \"\"\"\n",
        "    response = requests.get(url)\n",
        "    soup = BeautifulSoup(response.content, 'html.parser')\n",
        "\n",
        "    title = soup.find('h1')  # Get the title element\n",
        "    date = soup.find('span')  # Get the date element\n",
        "    content = soup.find('div')  # Get the content element\n",
        "\n",
        "    title = title.text.strip() if title else \"Title not found\"\n",
        "    date = date.text.strip() if date else \"Date not found\"\n",
        "    content = content.text.strip() if content else \"Content not found\"\n",
        "\n",
        "    return {'title': title, 'date': date, 'content': content}\n",
        "\n",
        "# Translation Function\n",
        "def translate_text(text, target_lang='en'):\n",
        "    \"\"\"\n",
        "    This function translates the input text to the specified target language (default: English).\n",
        "    \"\"\"\n",
        "    translator = Translator()\n",
        "    translated_text = translator.translate(text, dest=target_lang).text\n",
        "    return translated_text\n",
        "\n",
        "# Summarization Function\n",
        "def summarize_text(text):\n",
        "    \"\"\"\n",
        "    This function summarizes the input text using a BART model from Hugging Face transformers library.\n",
        "    \"\"\"\n",
        "    model = BartForConditionalGeneration.from_pretrained('facebook/bart-large-cnn')\n",
        "    tokenizer = BartTokenizer.from_pretrained('facebook/bart-large-cnn')\n",
        "\n",
        "    inputs = tokenizer.encode(\"summarize: \" + text, return_tensors=\"pt\", max_length=1024, truncation=True)\n",
        "\n",
        "    summary_ids = model.generate(inputs, max_length=150, min_length=50, length_penalty=2.0, num_beams=4, early_stopping=True)\n",
        "    summary = tokenizer.decode(summary_ids[0], skip_special_tokens=True)\n",
        "    return summary\n",
        "\n",
        "# Streamlit UI\n",
        "def display_news_summary(article_data, translated_title, translated_text, summary):\n",
        "    \"\"\"\n",
        "    Display the article details, translation, and summary in a well-formatted Streamlit app.\n",
        "    \"\"\"\n",
        "    st.title(\"News Scraper and Summarizer\")\n",
        "\n",
        "    # Display title in Hindi and English\n",
        "    st.subheader(\"Title (Hindi):\")\n",
        "    st.write(f\"**{article_data['title']}**\")\n",
        "\n",
        "    st.subheader(\"Title (English):\")\n",
        "    st.write(f\"**{translated_title}**\")\n",
        "\n",
        "    # Display date\n",
        "    st.subheader(\"Published Date:\")\n",
        "    st.write(f\"**{article_data['date']}**\")\n",
        "\n",
        "    # Display content in Hindi\n",
        "    st.subheader(\"Full Article (Hindi):\")\n",
        "    st.write(article_data['content'])\n",
        "\n",
        "    # Display translated content in English\n",
        "    st.subheader(\"Full Article (English):\")\n",
        "    st.write(translated_text)\n",
        "\n",
        "    # Display summarized content\n",
        "    st.subheader(\"Summary (English):\")\n",
        "    st.markdown(f\"<h3 style='font-size:20px;'>{summary}</h3>\", unsafe_allow_html=True)\n",
        "\n",
        "# Example usage\n",
        "url = 'https://hindi.asianetnews.com/entertainment/tv/salman-khan-bigg-boss-18-contestants-list-premiere-date-and-all/articleshow-yzbd8ld'\n",
        "\n",
        "# Scrape news article\n",
        "article_data = scrape_news_articles(url)\n",
        "\n",
        "# Translate title and content\n",
        "if article_data['content'] != \"Content not found\":\n",
        "    translated_title = translate_text(article_data['title'])\n",
        "    translated_text = translate_text(article_data['content'])\n",
        "\n",
        "    # Summarize the translated text\n",
        "    summary = summarize_text(translated_text)\n",
        "\n",
        "    # Display everything in Streamlit\n",
        "    display_news_summary(article_data, translated_title, translated_text, summary)\n",
        "\n",
        "else:\n",
        "    st.write(\"Failed to retrieve article content.\")\n"
      ],
      "metadata": {
        "colab": {
          "base_uri": "https://localhost:8080/"
        },
        "collapsed": true,
        "id": "e6pezJtrR7hf",
        "outputId": "c99d4b77-534e-4f81-c418-a114af6e27ff"
      },
      "execution_count": null,
      "outputs": [
        {
          "output_type": "stream",
          "name": "stderr",
          "text": [
            "2024-10-02 17:35:58.748 WARNING streamlit.runtime.scriptrunner_utils.script_run_context: Thread 'MainThread': missing ScriptRunContext! This warning can be ignored when running in bare mode.\n",
            "2024-10-02 17:35:58.852 \n",
            "  \u001b[33m\u001b[1mWarning:\u001b[0m to view this Streamlit app on a browser, run it with the following\n",
            "  command:\n",
            "\n",
            "    streamlit run /usr/local/lib/python3.10/dist-packages/colab_kernel_launcher.py [ARGUMENTS]\n",
            "2024-10-02 17:35:58.854 Thread 'MainThread': missing ScriptRunContext! This warning can be ignored when running in bare mode.\n",
            "2024-10-02 17:35:58.859 Thread 'MainThread': missing ScriptRunContext! This warning can be ignored when running in bare mode.\n",
            "2024-10-02 17:35:58.860 Thread 'MainThread': missing ScriptRunContext! This warning can be ignored when running in bare mode.\n",
            "2024-10-02 17:35:58.865 Thread 'MainThread': missing ScriptRunContext! This warning can be ignored when running in bare mode.\n",
            "2024-10-02 17:35:58.866 Thread 'MainThread': missing ScriptRunContext! This warning can be ignored when running in bare mode.\n",
            "2024-10-02 17:35:58.869 Thread 'MainThread': missing ScriptRunContext! This warning can be ignored when running in bare mode.\n",
            "2024-10-02 17:35:58.870 Thread 'MainThread': missing ScriptRunContext! This warning can be ignored when running in bare mode.\n",
            "2024-10-02 17:35:58.871 Thread 'MainThread': missing ScriptRunContext! This warning can be ignored when running in bare mode.\n",
            "2024-10-02 17:35:58.872 Thread 'MainThread': missing ScriptRunContext! This warning can be ignored when running in bare mode.\n",
            "2024-10-02 17:35:58.873 Thread 'MainThread': missing ScriptRunContext! This warning can be ignored when running in bare mode.\n",
            "2024-10-02 17:35:58.875 Thread 'MainThread': missing ScriptRunContext! This warning can be ignored when running in bare mode.\n",
            "2024-10-02 17:35:58.876 Thread 'MainThread': missing ScriptRunContext! This warning can be ignored when running in bare mode.\n",
            "2024-10-02 17:35:58.877 Thread 'MainThread': missing ScriptRunContext! This warning can be ignored when running in bare mode.\n",
            "2024-10-02 17:35:58.878 Thread 'MainThread': missing ScriptRunContext! This warning can be ignored when running in bare mode.\n",
            "2024-10-02 17:35:58.879 Thread 'MainThread': missing ScriptRunContext! This warning can be ignored when running in bare mode.\n",
            "2024-10-02 17:35:58.880 Thread 'MainThread': missing ScriptRunContext! This warning can be ignored when running in bare mode.\n",
            "2024-10-02 17:35:58.881 Thread 'MainThread': missing ScriptRunContext! This warning can be ignored when running in bare mode.\n",
            "2024-10-02 17:35:58.882 Thread 'MainThread': missing ScriptRunContext! This warning can be ignored when running in bare mode.\n",
            "2024-10-02 17:35:58.884 Thread 'MainThread': missing ScriptRunContext! This warning can be ignored when running in bare mode.\n",
            "2024-10-02 17:35:58.885 Thread 'MainThread': missing ScriptRunContext! This warning can be ignored when running in bare mode.\n",
            "2024-10-02 17:35:58.886 Thread 'MainThread': missing ScriptRunContext! This warning can be ignored when running in bare mode.\n",
            "2024-10-02 17:35:58.887 Thread 'MainThread': missing ScriptRunContext! This warning can be ignored when running in bare mode.\n",
            "2024-10-02 17:35:58.888 Thread 'MainThread': missing ScriptRunContext! This warning can be ignored when running in bare mode.\n",
            "2024-10-02 17:35:58.889 Thread 'MainThread': missing ScriptRunContext! This warning can be ignored when running in bare mode.\n",
            "2024-10-02 17:35:58.890 Thread 'MainThread': missing ScriptRunContext! This warning can be ignored when running in bare mode.\n",
            "2024-10-02 17:35:58.891 Thread 'MainThread': missing ScriptRunContext! This warning can be ignored when running in bare mode.\n",
            "2024-10-02 17:35:58.893 Thread 'MainThread': missing ScriptRunContext! This warning can be ignored when running in bare mode.\n",
            "2024-10-02 17:35:58.894 Thread 'MainThread': missing ScriptRunContext! This warning can be ignored when running in bare mode.\n",
            "2024-10-02 17:35:58.895 Thread 'MainThread': missing ScriptRunContext! This warning can be ignored when running in bare mode.\n",
            "2024-10-02 17:35:58.896 Thread 'MainThread': missing ScriptRunContext! This warning can be ignored when running in bare mode.\n",
            "2024-10-02 17:35:58.897 Thread 'MainThread': missing ScriptRunContext! This warning can be ignored when running in bare mode.\n",
            "2024-10-02 17:35:58.898 Thread 'MainThread': missing ScriptRunContext! This warning can be ignored when running in bare mode.\n",
            "2024-10-02 17:35:58.899 Thread 'MainThread': missing ScriptRunContext! This warning can be ignored when running in bare mode.\n",
            "2024-10-02 17:35:58.900 Thread 'MainThread': missing ScriptRunContext! This warning can be ignored when running in bare mode.\n",
            "2024-10-02 17:35:58.902 Thread 'MainThread': missing ScriptRunContext! This warning can be ignored when running in bare mode.\n"
          ]
        }
      ]
    }
  ]
}